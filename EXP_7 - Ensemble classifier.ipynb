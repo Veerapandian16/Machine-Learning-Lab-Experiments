{
  "nbformat": 4,
  "nbformat_minor": 0,
  "metadata": {
    "colab": {
      "provenance": []
    },
    "kernelspec": {
      "name": "python3",
      "display_name": "Python 3"
    },
    "language_info": {
      "name": "python"
    }
  },
  "cells": [
    {
      "cell_type": "code",
      "execution_count": null,
      "metadata": {
        "colab": {
          "base_uri": "https://localhost:8080/"
        },
        "id": "92HPztLpDhVP",
        "outputId": "6926098f-1b56-48a0-add7-5a1560ce3fe0"
      },
      "outputs": [
        {
          "output_type": "stream",
          "name": "stdout",
          "text": [
            "Ensemble Model Accuracy: 1.0\n",
            "Bagging Model Accuracy: 1.0\n",
            "Random Forest Model Accuracy: 1.0\n"
          ]
        },
        {
          "output_type": "stream",
          "name": "stderr",
          "text": [
            "/usr/local/lib/python3.10/dist-packages/sklearn/ensemble/_base.py:166: FutureWarning: `base_estimator` was renamed to `estimator` in version 1.2 and will be removed in 1.4.\n",
            "  warnings.warn(\n"
          ]
        }
      ],
      "source": [
        "from sklearn.datasets import load_iris\n",
        "from sklearn.model_selection import train_test_split as TTS\n",
        "from sklearn.tree import DecisionTreeClassifier as DT\n",
        "from sklearn.neighbors import KNeighborsClassifier as KNN\n",
        "from sklearn.ensemble import VotingClassifier as VS, BaggingClassifier as BC, RandomForestClassifier as RFC\n",
        "from sklearn.metrics import accuracy_score as AS\n",
        "iris = load_iris()\n",
        "X, Y = iris.data, iris.target\n",
        "X_train, X_test, y_train, y_test = TTS(X, Y, test_size=0.2, random_state=42)\n",
        "D_tree = DT()\n",
        "knn = KNN()\n",
        "ensemble_model = VS(estimators=[('Dt', D_tree), ('knn', knn)], voting='hard')\n",
        "ensemble_model.fit(X_train, y_train)\n",
        "y_pred = ensemble_model.predict(X_test)\n",
        "print(\"Ensemble Model Accuracy:\", AS(y_test, y_pred))\n",
        "bagging_model = BC(base_estimator=DT(), n_estimators=10, random_state=42)\n",
        "random_forest_model = RFC(n_estimators=10, random_state=42)\n",
        "\n",
        "bagging_model.fit(X_train, y_train)\n",
        "random_forest_model.fit(X_train, y_train)\n",
        "\n",
        "bagging_pred = bagging_model.predict(X_test)\n",
        "random_forest_pred = random_forest_model.predict(X_test)\n",
        "\n",
        "print(\"Bagging Model Accuracy:\", AS(y_test, bagging_pred))\n",
        "print(\"Random Forest Model Accuracy:\", AS(y_test, random_forest_pred))"
      ]
    }
  ]
}